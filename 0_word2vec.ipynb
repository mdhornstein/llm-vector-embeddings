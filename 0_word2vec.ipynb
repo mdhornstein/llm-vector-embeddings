{
  "nbformat": 4,
  "nbformat_minor": 0,
  "metadata": {
    "colab": {
      "provenance": [],
      "authorship_tag": "ABX9TyPxXnC5vF5a+Y26AjVks3Q4",
      "include_colab_link": true
    },
    "kernelspec": {
      "name": "python3",
      "display_name": "Python 3"
    },
    "language_info": {
      "name": "python"
    }
  },
  "cells": [
    {
      "cell_type": "markdown",
      "metadata": {
        "id": "view-in-github",
        "colab_type": "text"
      },
      "source": [
        "<a href=\"https://colab.research.google.com/github/mdhornstein/llm-vector-embeddings/blob/main/0_word2vec.ipynb\" target=\"_parent\"><img src=\"https://colab.research.google.com/assets/colab-badge.svg\" alt=\"Open In Colab\"/></a>"
      ]
    },
    {
      "cell_type": "code",
      "execution_count": null,
      "metadata": {
        "id": "3in27dbT0BO3"
      },
      "outputs": [],
      "source": []
    },
    {
      "cell_type": "markdown",
      "source": [
        "## Reading notes on [Note 1: Introduction and Word2Vec](https://web.stanford.edu/class/cs224n/readings/cs224n_winter2023_lecture1_notes_draft.pdf)"
      ],
      "metadata": {
        "id": "GoGopotI0hXT"
      }
    },
    {
      "cell_type": "markdown",
      "source": [
        "$$\n",
        "p_{U, V}(o \\mid c) = \\frac{e^{u_o^T v_c}}{\\sum_{w \\in \\mathcal{V}} e^{u_w^T v_c}}\n",
        "$$\n",
        "\n",
        "Let's count parameters in the word2vec model to see how many fewer parameters it has compared to a completely general model.\n",
        "\n",
        "Parameter counting:\n",
        "* The joint distribution of $O$ and $C$ is a categorical distribution over $| \\mathcal{V}|^2$ possible values, which has $| \\mathcal{V}|^2 - 1$ parameters in general.\n",
        "* In the word2vec model, the probabilities are determined by the matrices $U$ and $V$, both of which have dimension $|\\mathcal{V}| \\times d$, where $d$ is the embedding dimension. Thus the total number of parameters is $2d|\\mathcal{V}|$.\n",
        "* Thus if $2d < |\\mathcal{V}| - 1 / |\\mathcal{V}| \\approx \\mathcal{V}$, then the word2vec model has fewer parameters.   \n",
        "\n"
      ],
      "metadata": {
        "id": "n8pnJjpn3UtM"
      }
    }
  ]
}